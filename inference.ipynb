{
 "cells": [
  {
   "cell_type": "code",
   "execution_count": 1,
   "metadata": {},
   "outputs": [],
   "source": [
    "from transformers import T5Tokenizer, T5ForConditionalGeneration"
   ]
  },
  {
   "cell_type": "code",
   "execution_count": 2,
   "metadata": {},
   "outputs": [],
   "source": [
    "import torch"
   ]
  },
  {
   "cell_type": "code",
   "execution_count": 3,
   "metadata": {},
   "outputs": [
    {
     "name": "stdout",
     "output_type": "stream",
     "text": [
      "Arquitetura de dispositivo: 'AMD Radeon RX 580 2048SP' e nome do dispositivo: 'cpu'\n"
     ]
    }
   ],
   "source": [
    "device_name = torch.cuda.get_device_name(0)\n",
    "\n",
    "torch_device_name = \"cpu\" if \"AMD Radeon RX 580 2048SP\" in device_name else \"cuda\"\n",
    "\n",
    "print(f\"Arquitetura de dispositivo: '{device_name}' e nome do dispositivo: '{torch_device_name}'\" )"
   ]
  },
  {
   "cell_type": "code",
   "execution_count": 5,
   "metadata": {},
   "outputs": [],
   "source": [
    "class CPSolver:\n",
    "    def __init__(self, model_path=\"t5-small-cp-solver-4\", torch_device_name=torch_device_name):\n",
    "        self.model = T5ForConditionalGeneration.from_pretrained(model_path)\n",
    "        self.tokenizer = T5Tokenizer.from_pretrained(model_path)\n",
    "        self.device = torch.device(torch_device_name)\n",
    "        self.model.to(self.device)\n",
    "\n",
    "    def solve(self, problem_statement):\n",
    "        # Preprocess long input\n",
    "        input_text = f\"Generate a step-by-step competitive programming editorial for this problem: {problem_statement[:9000]}\"\n",
    "\n",
    "        inputs = self.tokenizer(\n",
    "            input_text,\n",
    "            max_length=512,\n",
    "            padding='max_length',\n",
    "            truncation=True,\n",
    "            return_tensors='pt'\n",
    "        ).to(self.device)\n",
    "\n",
    "        outputs = self.model.generate(\n",
    "            input_ids=inputs.input_ids,\n",
    "            attention_mask=inputs.attention_mask,\n",
    "            max_length=256,\n",
    "            num_beams=4,  # Increased beam width\n",
    "            early_stopping=True,\n",
    "            length_penalty=2,  # Encourage shorter sequences\n",
    "            no_repeat_ngram_size=3,  # Prevent 3-gram repeats\n",
    "            temperature=0.5,  # Add some randomness\n",
    "            top_k=50,               # Consider top 50 tokens\n",
    "            top_p=0.95,             # Nucleus sampling\n",
    "            repetition_penalty=2.0, # Explicit penalty\n",
    "            num_return_sequences=4  # Generate multiple candidates\n",
    "        )\n",
    "\n",
    "        candidates = [self.tokenizer.decode(seq, skip_specials=True) for seq in outputs]\n",
    "        return max(candidates, key=lambda x: len(x.split()))"
   ]
  },
  {
   "cell_type": "code",
   "execution_count": 6,
   "metadata": {},
   "outputs": [],
   "source": [
    "solver = CPSolver(model_path='models/lighting4')"
   ]
  },
  {
   "cell_type": "code",
   "execution_count": 7,
   "metadata": {},
   "outputs": [],
   "source": [
    "problems = [\n",
    "  \"You are given two positive integers and In one move you can increase by replace with Your task is to find the minimum number of moves you need to do in order to make divisible by It is possible that you have to make moves as is already divisible by You have to answer independent test cases\",\n",
    "  \"You are given two positive integers and In one move you can in the following way Choose any positive integer and replace with choose any positive integer and replace with You can perform as many such operations as you want You can choose the same numbers and in different moves Your task is to find the minimum number of moves required to obtain from It is guaranteed that you can always obtain from You have to answer independent test cases\",\n",
    "  \"Polycarp has positive integers and He can perform the following operation Choose a integer and multiply of the integers or by Can Polycarp make it so that after performing the operation the sequence of three numbers forms an arithmetic progression Note that you the order of and Formally a sequence is called an arithmetic progression AP if there exists a number called common difference such that for all from to In this problem For example the following sequences are AP and The following sequences are not AP and You need to answer independent test cases \",\n",
    "  \"You are given a string consisting of lowercase English letters You must print the last character of the string\",\n",
    "  \"There are N pigeons numbered from 1 to N, and there are N nests numbered from 1 to N Initially, pigeon i is in nest i for 1 less than N You are given Q queries, which you must process in order. There are two types of queries, each given in one of the following formats: Move P pigeon to nest H, Output the number of nests that contain more than one pigeon.\"\n",
    "]"
   ]
  },
  {
   "cell_type": "code",
   "execution_count": 8,
   "metadata": {},
   "outputs": [
    {
     "name": "stderr",
     "output_type": "stream",
     "text": [
      "/usr/lib/python3.13/site-packages/transformers/generation/configuration_utils.py:628: UserWarning: `do_sample` is set to `False`. However, `temperature` is set to `0.5` -- this flag is only used in sample-based generation modes. You should set `do_sample=True` or unset `temperature`.\n",
      "  warnings.warn(\n",
      "/usr/lib/python3.13/site-packages/transformers/generation/configuration_utils.py:633: UserWarning: `do_sample` is set to `False`. However, `top_p` is set to `0.95` -- this flag is only used in sample-based generation modes. You should set `do_sample=True` or unset `top_p`.\n",
      "  warnings.warn(\n"
     ]
    }
   ],
   "source": [
    "problem = problems[4]\n",
    "solution = solver.solve(problem)"
   ]
  },
  {
   "cell_type": "code",
   "execution_count": 9,
   "metadata": {},
   "outputs": [],
   "source": [
    "import re"
   ]
  },
  {
   "cell_type": "code",
   "execution_count": 10,
   "metadata": {},
   "outputs": [],
   "source": [
    "def format_str(s):\n",
    "    return re.sub(r'(?=[A-Z])', '\\n', s)"
   ]
  },
  {
   "cell_type": "code",
   "execution_count": 11,
   "metadata": {},
   "outputs": [
    {
     "name": "stdout",
     "output_type": "stream",
     "text": [
      "STATEMENT:\n",
      "\n",
      "There are \n",
      "N pigeons numbered from 1 to \n",
      "N, and there are \n",
      "N nests numbered from 1 to \n",
      "N \n",
      "Initially, pigeon i is in nest i for 1 less than \n",
      "N \n",
      "You are given \n",
      "Q queries, which you must process in order. \n",
      "There are two types of queries, each given in one of the following formats: \n",
      "Move \n",
      "P pigeon to nest \n",
      "H, \n",
      "Output the number of nests that contain more than one pigeon.\n",
      "\n",
      "EDITORIAL GERADO:\n",
      "<pad> \n",
      "Editorial: \n",
      "Let s calculate the number of nests that contain more than one pigeon \n",
      "So we need to process \n",
      "Q queries in order to get rid of the numbers of a pair of pairs of pairs and check if there is a single nitrate of pairs or a set of natrates for each pair \n",
      "Of course we can do this by using \n",
      "Q queries. \n",
      "We can use \n",
      "Q queries, which we can process in order from the first row to the second row so that we can sort the niest dilution of the two types of corresponding pairs of guineons from 1 to \n",
      "N with a p ng to the top of the list \n",
      "If we don t want to change the position of the smallest hogeon at the end of the line \n",
      "The answer is the same as when we move them to nest \n",
      "H then we have to wait until we find the best way to solve the problem by adding a couple of times on the list of th x cntr j o k n u v b f <unk>1 0 n an arbitrary number of vertices that are not\n"
     ]
    }
   ],
   "source": [
    "print(\"STATEMENT:\")\n",
    "print(format_str(problem))\n",
    "print()\n",
    "print(\"EDITORIAL GERADO:\")\n",
    "print(format_str(solution))"
   ]
  }
 ],
 "metadata": {
  "kernelspec": {
   "display_name": "Python 3",
   "language": "python",
   "name": "python3"
  },
  "language_info": {
   "codemirror_mode": {
    "name": "ipython",
    "version": 3
   },
   "file_extension": ".py",
   "mimetype": "text/x-python",
   "name": "python",
   "nbconvert_exporter": "python",
   "pygments_lexer": "ipython3",
   "version": "3.13.1"
  }
 },
 "nbformat": 4,
 "nbformat_minor": 2
}
