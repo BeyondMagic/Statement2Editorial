{
 "cells": [
  {
   "cell_type": "code",
   "execution_count": 1,
   "metadata": {},
   "outputs": [],
   "source": [
    "from transformers import T5Tokenizer, T5ForConditionalGeneration"
   ]
  },
  {
   "cell_type": "code",
   "execution_count": 2,
   "metadata": {},
   "outputs": [],
   "source": [
    "import torch"
   ]
  },
  {
   "cell_type": "code",
   "execution_count": 3,
   "metadata": {},
   "outputs": [
    {
     "name": "stdout",
     "output_type": "stream",
     "text": [
      "Arquitetura de dispositivo: 'AMD Radeon RX 580 2048SP' e nome do dispositivo: 'cpu'\n"
     ]
    }
   ],
   "source": [
    "device_name = torch.cuda.get_device_name(0)\n",
    "\n",
    "torch_device_name = \"cpu\" if \"AMD Radeon RX 580 2048SP\" in device_name else \"cuda\"\n",
    "\n",
    "print(f\"Arquitetura de dispositivo: '{device_name}' e nome do dispositivo: '{torch_device_name}'\" )"
   ]
  },
  {
   "cell_type": "code",
   "execution_count": 56,
   "metadata": {},
   "outputs": [],
   "source": [
    "class CPSolver:\n",
    "    def __init__(self, model_path=\"t5-small-cp-solver-4\", torch_device_name=torch_device_name):\n",
    "        self.model = T5ForConditionalGeneration.from_pretrained(model_path)\n",
    "        self.tokenizer = T5Tokenizer.from_pretrained(model_path)\n",
    "        self.device = torch.device(torch_device_name)\n",
    "        self.model.to(self.device)\n",
    "\n",
    "    def solve(self, problem_statement):\n",
    "        # Preprocessamento do input para que o modelo possa entender melhor e gerar uma saída mais precisa.\n",
    "        # Testamos vários tipos de strings de entrada, as menores tendem a criar saídas menos precisas.\n",
    "        input_text = f\"Generate the step-by-step programming for the problem: {problem_statement[:9000]}\"\n",
    "\n",
    "        inputs = self.tokenizer(\n",
    "            input_text,\n",
    "            max_length=512,\n",
    "            padding='max_length',\n",
    "            truncation=True,\n",
    "            return_tensors='pt'\n",
    "        ).to(self.device)\n",
    "\n",
    "        outputs = self.model.generate(\n",
    "            input_ids=inputs.input_ids,\n",
    "            attention_mask=inputs.attention_mask,\n",
    "            max_length=512,\n",
    "            num_beams=4,  # Increased beam width\n",
    "            early_stopping=False,\n",
    "            length_penalty=2,  # Encourage shorter sequences\n",
    "            no_repeat_ngram_size=2,  # Prevent 3-gram repeats\n",
    "            temperature=0.8,  # Add some randomness\n",
    "            top_k=50,               # Consider top 50 tokens\n",
    "            top_p=0.95,             # Nucleus sampling\n",
    "            repetition_penalty=2.0, # Explicit penalty\n",
    "            num_return_sequences=2,  # Generate multiple candidates\n",
    "            eos_token_id=self.tokenizer.eos_token_id,\n",
    "            forced_eos_token_id=None  # Remove forced EOS\n",
    "\n",
    "        )\n",
    "\n",
    "        candidates = [self.tokenizer.decode(seq, skip_specials=True) for seq in outputs]\n",
    "        return max(candidates, key=lambda x: len(x.split()))"
   ]
  },
  {
   "cell_type": "code",
   "execution_count": 57,
   "metadata": {},
   "outputs": [],
   "source": [
    "solver = CPSolver(model_path='models/lighting4')"
   ]
  },
  {
   "cell_type": "code",
   "execution_count": 48,
   "metadata": {},
   "outputs": [],
   "source": [
    "problems = [\n",
    "  \"You are given two positive integers and In one move you can increase by replace with Your task is to find the minimum number of moves you need to do in order to make divisible by It is possible that you have to make moves as is already divisible by You have to answer independent test cases\",\n",
    "  \"You are given two positive integers and In one move you can in the following way Choose any positive integer and replace with choose any positive integer and replace with You can perform as many such operations as you want You can choose the same numbers and in different moves Your task is to find the minimum number of moves required to obtain from It is guaranteed that you can always obtain from You have to answer independent test cases\",\n",
    "  \"Polycarp has positive integers and He can perform the following operation Choose a integer and multiply of the integers or by Can Polycarp make it so that after performing the operation the sequence of three numbers forms an arithmetic progression Note that you the order of and Formally a sequence is called an arithmetic progression AP if there exists a number called common difference such that for all from to In this problem For example the following sequences are AP and The following sequences are not AP and You need to answer independent test cases \",\n",
    "  \"You are given a string consisting of lowercase English letters You must print the last character of the string\",\n",
    "  \"There are N pigeons numbered from 1 to N, and there are N nests numbered from 1 to N Initially, pigeon i is in nest i for 1 less than N You are given Q queries, which you must process in order. There are two types of queries, each given in one of the following formats: Move P pigeon to nest H, Output the number of nests that contain more than one pigeon.\"\n",
    "]"
   ]
  },
  {
   "cell_type": "code",
   "execution_count": 61,
   "metadata": {},
   "outputs": [],
   "source": [
    "problem = problems[0]\n",
    "solution = solver.solve(problem)"
   ]
  },
  {
   "cell_type": "code",
   "execution_count": 36,
   "metadata": {},
   "outputs": [],
   "source": [
    "import re"
   ]
  },
  {
   "cell_type": "code",
   "execution_count": 10,
   "metadata": {},
   "outputs": [],
   "source": [
    "def format_str(s):\n",
    "    return re.sub(r'(?=[A-Z])', '\\n', s)"
   ]
  },
  {
   "cell_type": "code",
   "execution_count": 62,
   "metadata": {},
   "outputs": [
    {
     "name": "stdout",
     "output_type": "stream",
     "text": [
      "STATEMENT:\n",
      "\n",
      "You are given two positive integers and \n",
      "In one move you can increase by replace with \n",
      "Your task is to find the minimum number of moves you need to do in order to make divisible by \n",
      "It is possible that you have to make moves as is already divisible by \n",
      "You have to answer independent test cases\n",
      "\n",
      "EDITORIAL GERADO:\n",
      "<pad> <extra_id_0> by \n",
      "Then it is possible that you can make moves as is already divisible by \n",
      "So if you want to solve the problem you need to find the minimum number of moves in order to make them \n",
      "Divisible \n",
      "By multiplying by two positive integers and replacing with one negative integer \n",
      "You can use this function to calculate the maximum amount of moving you have to do \n",
      "If you are going to increase by we will add to the equation and replace with \n",
      "Now let s look at the value of the answer for the first move and check whether or not all of these values are equal to and so on \n",
      "Let the code be the same from to \n",
      "It is easy to see that there are no more than two ways to get rid of such a thing that is impossible for you to create the solution using the following algorithm and start the next step \n",
      "In the second step you should try to build an array of different types of transitions \n",
      "For example you may choose the best way to achieve the desired number where is the total length of which is less than just subtracting from each other and select the right one according to your needs and the last move is enough to put the correct sum of changes in the current position and then repeat the previous one and keep track of how long it takes until you know that every move has been made without any additional moves \n",
      "And now we have found the most divisive numbers of movements and change the behavior of some new move \n",
      "I would like to assume that the time difference between the two things is very important since they are always better than those of us \n",
      "To do this we can also use the method of solving the problems in both cases and consider the initial set of motions that are already divided by means of dividing by 2 and 3\n",
      "D and take the necessary steps to reduce the complexity of our computations \n",
      "This process can be done in addition to decreasing by \n",
      "We don t forget to update the list of non-dividences of shifts because when you go through the file you must remove the prefix of \n",
      "Moves before the end of its cycle and adjust the size of what is called \"distribution of multiples (or even recalculate the remaining fractions into the matrix and run the task manually and perform the tasks in case of unchecked i.e. \n",
      "Suppose that we are doing the opposite for each denominator, but the only thing you could do is to maintain the balance of \n",
      "All the above elements are separated by \n",
      "One of them is able to fix the point of view\n"
     ]
    }
   ],
   "source": [
    "print(\"STATEMENT:\")\n",
    "print(format_str(problem))\n",
    "print()\n",
    "print(\"EDITORIAL GERADO:\")\n",
    "print(format_str(solution))"
   ]
  }
 ],
 "metadata": {
  "kernelspec": {
   "display_name": "Python 3",
   "language": "python",
   "name": "python3"
  },
  "language_info": {
   "codemirror_mode": {
    "name": "ipython",
    "version": 3
   },
   "file_extension": ".py",
   "mimetype": "text/x-python",
   "name": "python",
   "nbconvert_exporter": "python",
   "pygments_lexer": "ipython3",
   "version": "3.13.1"
  }
 },
 "nbformat": 4,
 "nbformat_minor": 2
}
