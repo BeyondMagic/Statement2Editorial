{
 "cells": [
  {
   "cell_type": "code",
   "execution_count": 1,
   "metadata": {},
   "outputs": [],
   "source": [
    "from transformers import T5Tokenizer, T5ForConditionalGeneration"
   ]
  },
  {
   "cell_type": "code",
   "execution_count": 2,
   "metadata": {},
   "outputs": [],
   "source": [
    "import torch"
   ]
  },
  {
   "cell_type": "code",
   "execution_count": 3,
   "metadata": {},
   "outputs": [
    {
     "name": "stdout",
     "output_type": "stream",
     "text": [
      "Arquitetura de dispositivo: 'AMD Radeon RX 580 2048SP' e nome do dispositivo: 'cpu'\n"
     ]
    }
   ],
   "source": [
    "device_name = torch.cuda.get_device_name(0)\n",
    "\n",
    "torch_device_name = \"cpu\" if \"AMD Radeon RX 580 2048SP\" in device_name else \"cuda\"\n",
    "\n",
    "print(f\"Arquitetura de dispositivo: '{device_name}' e nome do dispositivo: '{torch_device_name}'\" )"
   ]
  },
  {
   "cell_type": "code",
   "execution_count": 21,
   "metadata": {},
   "outputs": [],
   "source": [
    "class CPSolver:\n",
    "    def __init__(self, model_path=\"solver\", torch_device_name=torch_device_name):\n",
    "        self.model = T5ForConditionalGeneration.from_pretrained(model_path)\n",
    "        self.tokenizer = T5Tokenizer.from_pretrained(model_path)\n",
    "        self.device = torch.device(torch_device_name)\n",
    "        self.model.to(self.device)\n",
    "\n",
    "    def solve(self, problem_statement):\n",
    "        # Preprocessamento do input para que o modelo possa entender melhor e gerar uma saída mais precisa.\n",
    "        # Testamos vários tipos de strings de entrada, as menores tendem a criar saídas menos precisas.\n",
    "        input_text = f\"Generate the step-by-step programming for the problem: {problem_statement[:9000]}\"\n",
    "\n",
    "        inputs = self.tokenizer(\n",
    "            input_text,\n",
    "            max_length=512,\n",
    "            padding='max_length',\n",
    "            truncation=True,\n",
    "            return_tensors='pt'\n",
    "        ).to(self.device)\n",
    "\n",
    "        outputs = self.model.generate(\n",
    "            input_ids=inputs.input_ids,\n",
    "            attention_mask=inputs.attention_mask,\n",
    "            max_length=512,\n",
    "            num_beams=4,\n",
    "            early_stopping=False,\n",
    "            length_penalty=-0.5,\n",
    "            no_repeat_ngram_size=1,\n",
    "            temperature=0.4,\n",
    "            top_k=50,\n",
    "            top_p=0.95,\n",
    "            repetition_penalty=2.0,\n",
    "            num_return_sequences=2,\n",
    "            eos_token_id=self.tokenizer.eos_token_id,\n",
    "            forced_eos_token_id=None\n",
    "\n",
    "        )\n",
    "\n",
    "        candidates = [self.tokenizer.decode(seq, skip_specials=True) for seq in outputs]\n",
    "        return max(candidates, key=lambda x: len(x.split()))"
   ]
  },
  {
   "cell_type": "code",
   "execution_count": 22,
   "metadata": {},
   "outputs": [],
   "source": [
    "solver = CPSolver(model_path='models/base-light')"
   ]
  },
  {
   "cell_type": "code",
   "execution_count": 37,
   "metadata": {},
   "outputs": [],
   "source": [
    "problems = [\n",
    "  \"You are given two positive integers and In one move you can increase by replace with Your task is to find the minimum number of moves you need to do in order to make divisible by It is possible that you have to make moves as is already divisible by You have to answer independent test cases\",\n",
    "  \"You are given two positive integers and In one move you can in the following way Choose any positive integer and replace with choose any positive integer and replace with You can perform as many such operations as you want You can choose the same numbers and in different moves Your task is to find the minimum number of moves required to obtain from It is guaranteed that you can always obtain from You have to answer independent test cases\",\n",
    "  \"Polycarp has positive integers and He can perform the following operation Choose a integer and multiply of the integers or by Can Polycarp make it so that after performing the operation the sequence of three numbers forms an arithmetic progression Note that you the order of and Formally a sequence is called an arithmetic progression AP if there exists a number called common difference such that for all from to In this problem For example the following sequences are AP and The following sequences are not AP and You need to answer independent test cases \",\n",
    "  \"You are given a string consisting of lowercase English letters You must print the last character of the string\",\n",
    "  \"There are N pigeons numbered from 1 to N, and there are N nests numbered from 1 to N Initially, pigeon i is in nest i for 1 less than N You are given Q queries, which you must process in order. There are two types of queries, each given in one of the following formats: Move P pigeon to nest H, Output the number of nests that contain more than one pigeon.\",\n",
    "  \"Let s call a permutation of length if the condition holds for all Recall that the permutation is the array of length which contains each integer from to exactly once Your task is for a given number print anti Fibonacci permutations of length \",\n",
    "  \"Given a positive integer find integers not necessary distinct such that all these integers are strictly greater than and their product is equal to \",\n",
    "  \"You are given three positive integers and You have to construct a string of length consisting of lowercase Latin letters such that of length has distinct letters It is guaranteed that the answer exists You have to answer independent test cases Recall that the substring is the string and its length is In this problem you are only interested in substrings of length \"\n",
    "]"
   ]
  },
  {
   "cell_type": "code",
   "execution_count": 38,
   "metadata": {},
   "outputs": [
    {
     "name": "stderr",
     "output_type": "stream",
     "text": [
      "/usr/lib/python3.13/site-packages/transformers/generation/configuration_utils.py:628: UserWarning: `do_sample` is set to `False`. However, `temperature` is set to `0.4` -- this flag is only used in sample-based generation modes. You should set `do_sample=True` or unset `temperature`.\n",
      "  warnings.warn(\n",
      "/usr/lib/python3.13/site-packages/transformers/generation/configuration_utils.py:633: UserWarning: `do_sample` is set to `False`. However, `top_p` is set to `0.95` -- this flag is only used in sample-based generation modes. You should set `do_sample=True` or unset `top_p`.\n",
      "  warnings.warn(\n"
     ]
    }
   ],
   "source": [
    "problem = problems[7]\n",
    "solution = solver.solve(problem)"
   ]
  },
  {
   "cell_type": "code",
   "execution_count": 8,
   "metadata": {},
   "outputs": [],
   "source": [
    "import re"
   ]
  },
  {
   "cell_type": "code",
   "execution_count": 15,
   "metadata": {},
   "outputs": [],
   "source": [
    "def format_str(s):\n",
    "    return re.sub(r'(?=[A-Z])', '\\n', s)"
   ]
  },
  {
   "cell_type": "code",
   "execution_count": 39,
   "metadata": {},
   "outputs": [
    {
     "name": "stdout",
     "output_type": "stream",
     "text": [
      "STATEMENT:\n",
      "\n",
      "You are given three positive integers and \n",
      "You have to construct a string of length consisting of lowercase \n",
      "Latin letters such that of length has distinct letters \n",
      "It is guaranteed that the answer exists \n",
      "You have to answer independent test cases \n",
      "Recall that the substring is the string and its length is \n",
      "In this problem you are only interested in substrings of length \n",
      "\n",
      "EDITORIAL GERADO:\n",
      "<pad> \n",
      "Editorial: \n",
      "It is easy to see that we don t need any substrings of length \n",
      "You can use some binomial or even more primitive methods such as \n",
      "T\n",
      "W\n",
      "R\n",
      "P and \n",
      "M\n",
      "I\n",
      "M\n",
      "E \n",
      "To get the maximum possible answer you will firstly find three distinct consonants in each letter \n",
      "So for example there are two concatenations with letters 1 through 3 \n",
      "In other words this number cannot be less than so it means exactly one \n",
      "Consequence has an equal sign \n",
      "If then does not exceed give us another negative integer \n",
      "The second problem works best when using binary calculus \n",
      "On average every decimal tree must contain at most six different characters</s>\n"
     ]
    }
   ],
   "source": [
    "print(\"STATEMENT:\")\n",
    "print(format_str(problem))\n",
    "print()\n",
    "print(\"EDITORIAL GERADO:\")\n",
    "print(format_str(solution))"
   ]
  }
 ],
 "metadata": {
  "kernelspec": {
   "display_name": "Python 3",
   "language": "python",
   "name": "python3"
  },
  "language_info": {
   "codemirror_mode": {
    "name": "ipython",
    "version": 3
   },
   "file_extension": ".py",
   "mimetype": "text/x-python",
   "name": "python",
   "nbconvert_exporter": "python",
   "pygments_lexer": "ipython3",
   "version": "3.13.1"
  }
 },
 "nbformat": 4,
 "nbformat_minor": 2
}
